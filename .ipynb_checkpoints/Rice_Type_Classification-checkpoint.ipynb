{
 "cells": [
  {
   "cell_type": "code",
   "execution_count": null,
   "id": "03c550ed-bf98-451c-bf7b-c8be6f2c5226",
   "metadata": {},
   "outputs": [],
   "source": [
    "import os\n",
    "\n",
    "# Set the file path to the directory containing your image dataset\n",
    "file_path = 'C:\\Users\\Guduri Prasanna\\Downloads\\archive\\Rice_Image_Dataset'\n",
    "\n",
    "# Verify that the directory exists\n",
    "if not os.path.isdir(file_path):\n",
    "    print(\"The specified directory does not exist. Please provide a valid directory path.\")\n",
    "else:\n",
    "    image_paths = []  # List to store image file paths\n",
    "    category_labels = []  # List to store category labels of images\n",
    "\n",
    "    # Iterate through each category in the directory\n",
    "    for category in os.listdir(file_path):\n",
    "        category_path = os.path.join(file_path, category)  # Full path to the category folder\n",
    "        if not os.path.isdir(category_path):\n",
    "            continue  # Skip if it's not a directory\n",
    "\n",
    "        # Iterate through each image file in the category folder\n",
    "        for image_file in os.listdir(category_path):\n",
    "            full_image_path = os.path.join(category_path, image_file)  # Full path to the image file\n",
    "            image_paths.append(full_image_path)  # Add image path to list\n",
    "            category_labels.append(category)  # Add category label to list\n"
   ]
  }
 ],
 "metadata": {
  "kernelspec": {
   "display_name": "Python 3 (ipykernel)",
   "language": "python",
   "name": "python3"
  },
  "language_info": {
   "codemirror_mode": {
    "name": "ipython",
    "version": 3
   },
   "file_extension": ".py",
   "mimetype": "text/x-python",
   "name": "python",
   "nbconvert_exporter": "python",
   "pygments_lexer": "ipython3",
   "version": "3.12.0"
  }
 },
 "nbformat": 4,
 "nbformat_minor": 5
}
